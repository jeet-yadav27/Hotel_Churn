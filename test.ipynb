{
 "cells": [
  {
   "cell_type": "code",
   "execution_count": 1,
   "id": "f58344d4",
   "metadata": {},
   "outputs": [
    {
     "name": "stdout",
     "output_type": "stream",
     "text": [
      "hello\n"
     ]
    }
   ],
   "source": [
    "print(\"hello\")"
   ]
  },
  {
   "cell_type": "code",
   "execution_count": 2,
   "id": "5f26cdb0",
   "metadata": {},
   "outputs": [],
   "source": [
    "import os\n",
    "import pandas as pd\n",
    "from google.cloud import storage\n",
    "from sklearn.model_selection import train_test_split\n",
    "from src.logger import get_logger\n",
    "from src.custom_exception import CustomException\n",
    "from config.paths_config import *\n",
    "from utils.common_functions import read_yaml\n",
    "\n",
    "logger = get_logger(__name__)\n",
    "\n",
    "class DataIngestion:\n",
    "    def __init__(self,config):\n",
    "        self.config = config[\"data_ingestion\"]\n",
    "        print(self.config)\n",
    "        self.bucket_name = self.config[\"bucket_name\"]\n",
    "        self.file_name = self.config[\"bucket_file_name\"]\n",
    "        self.train_test_ratio = self.config[\"train_ratio\"]\n",
    "\n",
    "        os.makedirs(RAW_DIR , exist_ok=True)\n",
    "\n",
    "        logger.info(f\"Data Ingestion started with {self.bucket_name} and file is  {self.file_name}\")\n",
    "\n",
    "    def download_csv_from_gcp(self):\n",
    "        try:\n",
    "            client = storage.Client()\n",
    "            bucket = client.bucket(self.bucket_name)\n",
    "            blob = bucket.blob(self.file_name)\n",
    "\n",
    "            blob.download_to_filename(RAW_FILE_PATH)\n",
    "\n",
    "            logger.info(f\"CSV file is sucesfully downloaded to {RAW_FILE_PATH}\")\n",
    "\n",
    "        except Exception as e:\n",
    "            logger.error(\"Error while downloading the csv file\")\n",
    "            raise CustomException(\"Failed to downlaod csv file \", e)\n",
    "        \n",
    "    def split_data(self):\n",
    "        try:\n",
    "            logger.info(\"Starting the splitting process\")\n",
    "            data = pd.read_csv(RAW_FILE_PATH)\n",
    "            train_data , test_data = train_test_split(data , test_size=1-self.train_test_ratio , random_state=42)\n",
    "\n",
    "            train_data.to_csv(TRAIN_FILE_PATH)\n",
    "            test_data.to_csv(TEST_FILE_PATH)\n",
    "\n",
    "            logger.info(f\"Train data saved to {TRAIN_FILE_PATH}\")\n",
    "            logger.info(f\"Test data saved to {TEST_FILE_PATH}\")\n",
    "        \n",
    "        except Exception as e:\n",
    "            logger.error(\"Error while splitting data\")\n",
    "            raise CustomException(\"Failed to split data into training and test sets \", e)\n",
    "        \n",
    "    def run(self):\n",
    "\n",
    "        try:\n",
    "            logger.info(\"Starting data ingestion process\")\n",
    "\n",
    "            self.download_csv_from_gcp()\n",
    "            self.split_data()\n",
    "\n",
    "            logger.info(\"Data ingestion completed sucesfully\")\n",
    "        \n",
    "        except CustomException as ce:\n",
    "            logger.error(f\"CustomException : {str(ce)}\")\n",
    "        \n",
    "        finally:\n",
    "            logger.info(\"Data ingestion completed\")\n",
    "\n",
    "\n",
    "\n",
    "\n",
    "\n",
    "\n",
    "\n"
   ]
  },
  {
   "cell_type": "code",
   "execution_count": 3,
   "id": "e0f77a70",
   "metadata": {},
   "outputs": [
    {
     "name": "stdout",
     "output_type": "stream",
     "text": [
      "config/config.yaml\n",
      "{'bucket_name': 'jeet_yadav27', 'bucket_file_name': 'Hotel_Reservations.csv', 'train_ratio': 0.8}\n"
     ]
    }
   ],
   "source": [
    "if __name__ == \"__main__\":\n",
    "    print(CONFIG_PATH)\n",
    "    data_ingestion = DataIngestion(read_yaml(CONFIG_PATH))\n",
    "    data_ingestion.run()"
   ]
  },
  {
   "cell_type": "code",
   "execution_count": null,
   "id": "c85ddc22",
   "metadata": {},
   "outputs": [],
   "source": []
  }
 ],
 "metadata": {
  "kernelspec": {
   "display_name": "venv",
   "language": "python",
   "name": "python3"
  },
  "language_info": {
   "codemirror_mode": {
    "name": "ipython",
    "version": 3
   },
   "file_extension": ".py",
   "mimetype": "text/x-python",
   "name": "python",
   "nbconvert_exporter": "python",
   "pygments_lexer": "ipython3",
   "version": "3.12.0"
  }
 },
 "nbformat": 4,
 "nbformat_minor": 5
}
